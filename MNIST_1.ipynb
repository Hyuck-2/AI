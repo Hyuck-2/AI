{
 "cells": [
  {
   "cell_type": "code",
   "execution_count": 1,
   "metadata": {},
   "outputs": [],
   "source": [
    "import numpy as np\n",
    "import tensorflow as tf\n",
    "from tensorflow.keras.datasets import cifar10\n",
    "from tensorflow.keras.datasets import mnist"
   ]
  },
  {
   "cell_type": "code",
   "execution_count": 4,
   "metadata": {},
   "outputs": [
    {
     "data": {
      "text/plain": [
       "2"
      ]
     },
     "execution_count": 4,
     "metadata": {},
     "output_type": "execute_result"
    }
   ],
   "source": [
    "data = mnist.load_data()\n",
    "\n",
    "len(data)"
   ]
  },
  {
   "cell_type": "code",
   "execution_count": 5,
   "metadata": {},
   "outputs": [],
   "source": [
    "train, test = data"
   ]
  },
  {
   "cell_type": "code",
   "execution_count": 10,
   "metadata": {},
   "outputs": [],
   "source": [
    "(train_x, train_y,) = train\n",
    "(test_x, test_y) = test"
   ]
  },
  {
   "cell_type": "code",
   "execution_count": 13,
   "metadata": {},
   "outputs": [],
   "source": [
    "#data = 28*28\n",
    "import matplotlib.pyplot as plt"
   ]
  },
  {
   "cell_type": "code",
   "execution_count": 16,
   "metadata": {},
   "outputs": [
    {
     "data": {
      "text/plain": [
       "<matplotlib.image.AxesImage at 0x7fba78d78828>"
      ]
     },
     "execution_count": 16,
     "metadata": {},
     "output_type": "execute_result"
    },
    {
     "data": {
      "image/png": "[encoded data removed]",
      "text/plain": [
       "<Figure size 432x288 with 1 Axes>"
      ]
     },
     "metadata": {
      "needs_background": "light"
     },
     "output_type": "display_data"
    }
   ],
   "source": [
    "plt.imshow(train_x[0], cmap='gray')"
   ]
  },
  {
   "cell_type": "code",
   "execution_count": 19,
   "metadata": {},
   "outputs": [],
   "source": [
    "train_y = np.eye(10)[train_y]\n",
    "test_y = np.eye(10)[test_y]"
   ]
  },
  {
   "cell_type": "code",
   "execution_count": 21,
   "metadata": {},
   "outputs": [],
   "source": [
    "shape = train_x[0].shape\n",
    "train_x = train_x.reshape(-1, np.prod(shape))\n",
    "test_x = test_x.reshape(-1, np.prod(shape))"
   ]
  },
  {
   "cell_type": "code",
   "execution_count": 27,
   "metadata": {},
   "outputs": [],
   "source": [
    "tf.nn.softmax?"
   ]
  },
  {
   "cell_type": "code",
   "execution_count": 30,
   "metadata": {},
   "outputs": [],
   "source": [
    "tf.losses.softmax_cross_entropy?"
   ]
  },
  {
   "cell_type": "code",
   "execution_count": 68,
   "metadata": {},
   "outputs": [],
   "source": [
    "n_class = 10\n",
    "learning_rate = 0.003\n",
    "activation = tf.nn.relu\n",
    "epoch = 100\n",
    "batch = int(len(train_x)/epoch)\n",
    "\n",
    "tf.reset_default_graph()\n",
    "\n",
    "X = tf.placeholder(dtype=tf.float32, shape = [None, np.prod(shape)])\n",
    "Y = tf.placeholder(dtype=tf.float32, shape = [None, n_class])\n",
    "\n",
    "output1 = tf.layers.dense(X, 256)\n",
    "hidden1 = activation(output1)\n",
    "\n",
    "output2 = tf.layers.dense(hidden1, 128)\n",
    "hidden2 = activation(output2)\n",
    "\n",
    "logit = tf.layers.dense(hidden2, 10)\n",
    "\n",
    "pred = tf.nn.softmax(logits=logit)\n",
    "\n",
    "loss = tf.losses.softmax_cross_entropy(Y, pred)\n",
    "optimizer = tf.train.AdamOptimizer(learning_rate = learning_rate).minimize(loss)\n",
    "accuracy = tf.reduce_mean(tf.cast(tf.equal(pred, Y), tf.float32))"
   ]
  },
  {
   "cell_type": "code",
   "execution_count": 69,
   "metadata": {},
   "outputs": [],
   "source": [
    "from sklearn.metrics import confusion_matrix"
   ]
  },
  {
   "cell_type": "code",
   "execution_count": 70,
   "metadata": {},
   "outputs": [
    {
     "name": "stdout",
     "output_type": "stream",
     "text": [
      "Step 10 loss currently at 1.9951889514923096\n",
      "Step 20 loss currently at 1.9068636894226074\n",
      "Step 30 loss currently at 1.8969526290893555\n",
      "Step 40 loss currently at 1.8109419345855713\n",
      "Step 50 loss currently at 1.798348069190979\n",
      "Step 60 loss currently at 1.7942577600479126\n",
      "Step 70 loss currently at 1.7907583713531494\n",
      "Step 80 loss currently at 1.789283037185669\n",
      "Step 90 loss currently at 1.786003828048706\n",
      "Step 100 loss currently at 1.7831345796585083\n",
      "0.91852\n"
     ]
    }
   ],
   "source": [
    "losses = list()\n",
    "\n",
    "with tf.Session() as sess:\n",
    "    sess.run(tf.global_variables_initializer())\n",
    "    \n",
    "    for step in range(epoch):\n",
    "        _, l = sess.run([optimizer, loss], feed_dict = {X:train_x, Y:train_y})\n",
    "        \n",
    "        losses.append(l)\n",
    "        \n",
    "        if (step+1) % 10 == 0:\n",
    "            print(f'Step {step + 1} loss currently at {l}')\n",
    "        \n",
    "    anticipated = sess.run(accuracy, feed_dict = {X:test_x, Y:test_y})\n",
    "    print(anticipated)"
   ]
  },
  {
   "cell_type": "code",
   "execution_count": 71,
   "metadata": {},
   "outputs": [
    {
     "data": {
      "text/plain": [
       "[<matplotlib.lines.Line2D at 0x7fb9e0284828>]"
      ]
     },
     "execution_count": 71,
     "metadata": {},
     "output_type": "execute_result"
    },
    {
     "data": {
      "image/png": "[encoded data removed]",
      "text/plain": [
       "<Figure size 432x288 with 1 Axes>"
      ]
     },
     "metadata": {
      "needs_background": "light"
     },
     "output_type": "display_data"
    }
   ],
   "source": [
    "plt.plot(losses)"
   ]
  },
  {
   "cell_type": "code",
   "execution_count": null,
   "metadata": {},
   "outputs": [],
   "source": []
  }
 ],
 "metadata": {
  "kernelspec": {
   "display_name": "Python 3",
   "language": "python",
   "name": "python3"
  },
  "language_info": {
   "codemirror_mode": {
    "name": "ipython",
    "version": 3
   },
   "file_extension": ".py",
   "mimetype": "text/x-python",
   "name": "python",
   "nbconvert_exporter": "python",
   "pygments_lexer": "ipython3",
   "version": "3.7.3"
  }
 },
 "nbformat": 4,
 "nbformat_minor": 2
}
