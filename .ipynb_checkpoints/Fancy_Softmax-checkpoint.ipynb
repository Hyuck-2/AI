{
 "cells": [
  {
   "cell_type": "markdown",
   "metadata": {},
   "source": [
    "# Softmax and Fancy_Softmax have exactly the same mechanism. The only difference is in the length of the code for those two"
   ]
  },
  {
   "cell_type": "code",
   "execution_count": 1,
   "metadata": {},
   "outputs": [],
   "source": [
    "import tensorflow as tf\n",
    "import numpy as np"
   ]
  },
  {
   "cell_type": "code",
   "execution_count": 2,
   "metadata": {},
   "outputs": [],
   "source": [
    "tf.set_random_seed(777)\n",
    "xy = np.loadtxt('data-04-zoo.csv', delimiter = ',', dtype=np.float32)\n",
    "x = xy[:, :-1]\n",
    "y = xy[:, [-1]]"
   ]
  },
  {
   "cell_type": "code",
   "execution_count": 3,
   "metadata": {},
   "outputs": [
    {
     "name": "stdout",
     "output_type": "stream",
     "text": [
      "(101, 16) (101, 1)\n"
     ]
    }
   ],
   "source": [
    "print(x.shape, y.shape)"
   ]
  },
  {
   "cell_type": "code",
   "execution_count": 8,
   "metadata": {},
   "outputs": [],
   "source": [
    "nb_classes = 7"
   ]
  },
  {
   "cell_type": "code",
   "execution_count": 11,
   "metadata": {},
   "outputs": [
    {
     "name": "stdout",
     "output_type": "stream",
     "text": [
      "Tensor(\"one_hot_2:0\", shape=(?, 1, 7), dtype=float32)\n",
      "Tensor(\"Reshape_2:0\", shape=(?, 7), dtype=float32)\n"
     ]
    }
   ],
   "source": [
    "X = tf.placeholder(tf.float32, shape = [None, 16])\n",
    "Y = tf.placeholder(tf.int32, shape = [None, 1])\n",
    "\n",
    "Y_one_hot = tf.one_hot(Y, nb_classes)\n",
    "print(Y_one_hot)\n",
    "Y_one_hot = tf.reshape(Y_one_hot, [-1, nb_classes])\n",
    "print(Y_one_hot)"
   ]
  },
  {
   "cell_type": "code",
   "execution_count": 14,
   "metadata": {},
   "outputs": [
    {
     "name": "stdout",
     "output_type": "stream",
     "text": [
      "WARNING:tensorflow:From /anaconda3/lib/python3.7/site-packages/tensorflow/python/framework/op_def_library.py:263: colocate_with (from tensorflow.python.framework.ops) is deprecated and will be removed in a future version.\n",
      "Instructions for updating:\n",
      "Colocations handled automatically by placer.\n"
     ]
    }
   ],
   "source": [
    "W = tf.Variable(tf.random_normal([16, nb_classes]), name = 'weight')\n",
    "b = tf.Variable(tf.random_normal([nb_classes], name = 'bias'))\n",
    "logits = tf.matmul(X, W) + b\n",
    "hypothesis = tf.nn.softmax(logits)"
   ]
  },
  {
   "cell_type": "code",
   "execution_count": 16,
   "metadata": {},
   "outputs": [],
   "source": [
    "cost = tf.reduce_mean(tf.nn.softmax_cross_entropy_with_logits_v2(logits = logits,\n",
    "                                                                labels = tf.stop_gradient([Y_one_hot])))\n",
    "optimizer = tf.train.GradientDescentOptimizer(learning_rate = 0.1).minimize(cost)\n",
    "\n",
    "prediction = tf.argmax(hypothesis, 1)\n",
    "correct_prediction = tf.equal(prediction, tf.argmax(Y_one_hot, 1))\n",
    "accuracy = tf.reduce_mean(tf.cast(correct_prediction, tf.float32))\n"
   ]
  },
  {
   "cell_type": "code",
   "execution_count": 21,
   "metadata": {},
   "outputs": [
    {
     "name": "stdout",
     "output_type": "stream",
     "text": [
      "0 5.8380017\n",
      "200 0.34357718\n",
      "400 0.21608923\n",
      "600 0.15724398\n",
      "800 0.12255419\n",
      "1000 0.09988718\n",
      "1200 0.08408774\n",
      "1400 0.07253185\n",
      "1600 0.06375314\n",
      "1800 0.05687732\n",
      "2000 0.051355746\n",
      "[True] Prediction : 0 True Y: 0\n",
      "[True] Prediction : 0 True Y: 0\n",
      "[True] Prediction : 3 True Y: 3\n",
      "[True] Prediction : 0 True Y: 0\n",
      "[True] Prediction : 0 True Y: 0\n",
      "[True] Prediction : 0 True Y: 0\n",
      "[True] Prediction : 0 True Y: 0\n",
      "[True] Prediction : 3 True Y: 3\n",
      "[True] Prediction : 3 True Y: 3\n",
      "[True] Prediction : 0 True Y: 0\n",
      "[True] Prediction : 0 True Y: 0\n",
      "[True] Prediction : 1 True Y: 1\n",
      "[True] Prediction : 3 True Y: 3\n",
      "[True] Prediction : 6 True Y: 6\n",
      "[True] Prediction : 6 True Y: 6\n",
      "[True] Prediction : 6 True Y: 6\n",
      "[True] Prediction : 1 True Y: 1\n",
      "[True] Prediction : 0 True Y: 0\n",
      "[True] Prediction : 3 True Y: 3\n",
      "[True] Prediction : 0 True Y: 0\n",
      "[True] Prediction : 1 True Y: 1\n",
      "[True] Prediction : 1 True Y: 1\n",
      "[True] Prediction : 0 True Y: 0\n",
      "[True] Prediction : 1 True Y: 1\n",
      "[True] Prediction : 5 True Y: 5\n",
      "[True] Prediction : 4 True Y: 4\n",
      "[True] Prediction : 4 True Y: 4\n",
      "[True] Prediction : 0 True Y: 0\n",
      "[True] Prediction : 0 True Y: 0\n",
      "[True] Prediction : 0 True Y: 0\n",
      "[True] Prediction : 5 True Y: 5\n",
      "[True] Prediction : 0 True Y: 0\n",
      "[True] Prediction : 0 True Y: 0\n",
      "[True] Prediction : 1 True Y: 1\n",
      "[True] Prediction : 3 True Y: 3\n",
      "[True] Prediction : 0 True Y: 0\n",
      "[True] Prediction : 0 True Y: 0\n",
      "[True] Prediction : 1 True Y: 1\n",
      "[True] Prediction : 3 True Y: 3\n",
      "[True] Prediction : 5 True Y: 5\n",
      "[True] Prediction : 5 True Y: 5\n",
      "[True] Prediction : 1 True Y: 1\n",
      "[True] Prediction : 5 True Y: 5\n",
      "[True] Prediction : 1 True Y: 1\n",
      "[True] Prediction : 0 True Y: 0\n",
      "[True] Prediction : 0 True Y: 0\n",
      "[True] Prediction : 6 True Y: 6\n",
      "[True] Prediction : 0 True Y: 0\n",
      "[True] Prediction : 0 True Y: 0\n",
      "[True] Prediction : 0 True Y: 0\n",
      "[True] Prediction : 0 True Y: 0\n",
      "[True] Prediction : 5 True Y: 5\n",
      "[True] Prediction : 4 True Y: 4\n",
      "[True] Prediction : 6 True Y: 6\n",
      "[True] Prediction : 0 True Y: 0\n",
      "[True] Prediction : 0 True Y: 0\n",
      "[True] Prediction : 1 True Y: 1\n",
      "[True] Prediction : 1 True Y: 1\n",
      "[True] Prediction : 1 True Y: 1\n",
      "[True] Prediction : 1 True Y: 1\n",
      "[True] Prediction : 3 True Y: 3\n",
      "[True] Prediction : 3 True Y: 3\n",
      "[True] Prediction : 2 True Y: 2\n",
      "[True] Prediction : 0 True Y: 0\n",
      "[True] Prediction : 0 True Y: 0\n",
      "[True] Prediction : 0 True Y: 0\n",
      "[True] Prediction : 0 True Y: 0\n",
      "[True] Prediction : 0 True Y: 0\n",
      "[True] Prediction : 0 True Y: 0\n",
      "[True] Prediction : 0 True Y: 0\n",
      "[True] Prediction : 0 True Y: 0\n",
      "[True] Prediction : 1 True Y: 1\n",
      "[True] Prediction : 6 True Y: 6\n",
      "[True] Prediction : 3 True Y: 3\n",
      "[True] Prediction : 0 True Y: 0\n",
      "[True] Prediction : 0 True Y: 0\n",
      "[True] Prediction : 2 True Y: 2\n",
      "[True] Prediction : 6 True Y: 6\n",
      "[True] Prediction : 1 True Y: 1\n",
      "[True] Prediction : 1 True Y: 1\n",
      "[True] Prediction : 2 True Y: 2\n",
      "[True] Prediction : 6 True Y: 6\n",
      "[True] Prediction : 3 True Y: 3\n",
      "[True] Prediction : 1 True Y: 1\n",
      "[True] Prediction : 0 True Y: 0\n",
      "[True] Prediction : 6 True Y: 6\n",
      "[True] Prediction : 3 True Y: 3\n",
      "[True] Prediction : 1 True Y: 1\n",
      "[True] Prediction : 5 True Y: 5\n",
      "[True] Prediction : 4 True Y: 4\n",
      "[True] Prediction : 2 True Y: 2\n",
      "[True] Prediction : 2 True Y: 2\n",
      "[True] Prediction : 3 True Y: 3\n",
      "[True] Prediction : 0 True Y: 0\n",
      "[True] Prediction : 0 True Y: 0\n",
      "[True] Prediction : 1 True Y: 1\n",
      "[True] Prediction : 0 True Y: 0\n",
      "[True] Prediction : 5 True Y: 5\n",
      "[True] Prediction : 0 True Y: 0\n",
      "[True] Prediction : 6 True Y: 6\n",
      "[True] Prediction : 1 True Y: 1\n"
     ]
    }
   ],
   "source": [
    "with tf.Session() as sess:\n",
    "    sess.run(tf.global_variables_initializer())\n",
    "    \n",
    "    feed = {X:x, Y:y}\n",
    "    \n",
    "    for step in range(2001):\n",
    "        _, cost_val = sess.run([optimizer, cost], feed_dict = feed)\n",
    "        \n",
    "        if step % 200 == 0:\n",
    "            print(step, cost_val)\n",
    "            \n",
    "    pred = sess.run(prediction, feed_dict={X:x})\n",
    "    for p, y in zip(pred, y.flatten()):\n",
    "        print(f'[{p == int(y)}] Prediction : {p} True Y: {int(y)}')"
   ]
  },
  {
   "cell_type": "code",
   "execution_count": null,
   "metadata": {},
   "outputs": [],
   "source": []
  }
 ],
 "metadata": {
  "kernelspec": {
   "display_name": "Python 3",
   "language": "python",
   "name": "python3"
  },
  "language_info": {
   "codemirror_mode": {
    "name": "ipython",
    "version": 3
   },
   "file_extension": ".py",
   "mimetype": "text/x-python",
   "name": "python",
   "nbconvert_exporter": "python",
   "pygments_lexer": "ipython3",
   "version": "3.7.1"
  }
 },
 "nbformat": 4,
 "nbformat_minor": 2
}
