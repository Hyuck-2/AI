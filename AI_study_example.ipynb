{
 "cells": [
  {
   "cell_type": "code",
   "execution_count": 1,
   "metadata": {},
   "outputs": [],
   "source": [
    "import tensorflow as tf\n",
    "import numpy as np\n",
    "import seaborn as sns"
   ]
  },
  {
   "cell_type": "code",
   "execution_count": 2,
   "metadata": {},
   "outputs": [
    {
     "name": "stdout",
     "output_type": "stream",
     "text": [
      "WARNING:tensorflow:From /home/pirl/anaconda3/lib/python3.7/site-packages/tensorflow/python/framework/op_def_library.py:263: colocate_with (from tensorflow.python.framework.ops) is deprecated and will be removed in a future version.\n",
      "Instructions for updating:\n",
      "Colocations handled automatically by placer.\n"
     ]
    }
   ],
   "source": [
    "x = np.array([[1],[2],[3],[4],[5],[6]])\n",
    "y = np.array([[5],[10],[15],[20],[25],[30]])\n",
    "\n",
    "x_test = np.array([[10],[20],[30],[40]])\n",
    "\n",
    "X = tf.placeholder(tf.float32, [None, 1])\n",
    "Y = tf.placeholder(tf.float32, [None, 1])\n",
    "\n",
    "W = tf.Variable(tf.random_normal([1, 1]), name = 'weight')\n",
    "b = tf.Variable(tf.random_normal([1]), name = 'bias')\n",
    "\n",
    "hypothesis = tf.matmul(X, W) + b\n",
    "cost = tf.reduce_mean(tf.square(hypothesis - Y))"
   ]
  },
  {
   "cell_type": "code",
   "execution_count": 3,
   "metadata": {},
   "outputs": [
    {
     "data": {
      "text/plain": [
       "<matplotlib.axes._subplots.AxesSubplot at 0x7fb254b060b8>"
      ]
     },
     "execution_count": 3,
     "metadata": {},
     "output_type": "execute_result"
    },
    {
     "data": {
      "image/png": "[encoded data removed]",
      "text/plain": [
       "<Figure size 432x288 with 1 Axes>"
      ]
     },
     "metadata": {
      "needs_background": "light"
     },
     "output_type": "display_data"
    }
   ],
   "source": [
    "import pandas as pd\n",
    "test_tmp = pd.DataFrame({'x':[k[0] for k in x], 'y':[k[0] for k in y]})\n",
    "sns.lineplot(x=test_tmp['x'], y=test_tmp['y'])"
   ]
  },
  {
   "cell_type": "code",
   "execution_count": 4,
   "metadata": {},
   "outputs": [
    {
     "name": "stdout",
     "output_type": "stream",
     "text": [
      "Step: 0 Cost: 209.36463928222656\n",
      "Step: 10 Cost: 0.23946623504161835\n",
      "Step: 20 Cost: 0.13491608202457428\n",
      "Step: 30 Cost: 0.1253630816936493\n",
      "Step: 40 Cost: 0.11652344465255737\n",
      "Step: 50 Cost: 0.1083071231842041\n",
      "Step: 60 Cost: 0.10067000985145569\n",
      "Step: 70 Cost: 0.09357129782438278\n",
      "Step: 80 Cost: 0.08697342872619629\n",
      "Step: 90 Cost: 0.08084077388048172\n",
      "Step: 100 Cost: 0.07514046877622604\n",
      "================================================================================\n",
      "Report\n",
      "================================================================================\n",
      "Linear Regression Formula: Y = [[4.854571]]x + [0.6226092]\n",
      "================================================================================\n",
      "================================================================================\n",
      "[[ 49.168316]\n",
      " [ 97.71403 ]\n",
      " [146.25974 ]\n",
      " [194.80544 ]]\n"
     ]
    }
   ],
   "source": [
    "lr = 0.01\n",
    "\n",
    "optimizer = tf.train.GradientDescentOptimizer(lr)\n",
    "train = optimizer.minimize(cost)\n",
    "\n",
    "with tf.Session() as sess:\n",
    "    sess.run(tf.global_variables_initializer())\n",
    "    \n",
    "    for step in range(101):\n",
    "        _, cost_val = sess.run([train, cost], feed_dict = {X:x, Y:y})\n",
    "        \n",
    "        if step % 10 == 0:\n",
    "            print(f'Step: {step} Cost: {cost_val}')\n",
    "    \n",
    "    w_val, b_val = sess.run([W, b])\n",
    "    \n",
    "    print('='*80)\n",
    "    print('Report')\n",
    "    print('='*80)\n",
    "    print(f'Linear Regression Formula: Y = {w_val}x + {b_val}')\n",
    "    print('='*80)\n",
    "    print('='*80)\n",
    "    exp_val1 = sess.run(hypothesis, feed_dict = {X:x_test})\n",
    "    print(exp_val1)\n",
    "\n",
    "    "
   ]
  },
  {
   "cell_type": "code",
   "execution_count": 5,
   "metadata": {},
   "outputs": [
    {
     "data": {
      "text/plain": [
       "<matplotlib.axes._subplots.AxesSubplot at 0x7fb24ff65ba8>"
      ]
     },
     "execution_count": 5,
     "metadata": {},
     "output_type": "execute_result"
    },
    {
     "data": {
      "image/png": "[encoded data removed]",
      "text/plain": [
       "<Figure size 432x288 with 1 Axes>"
      ]
     },
     "metadata": {
      "needs_background": "light"
     },
     "output_type": "display_data"
    }
   ],
   "source": [
    "graph1_x = np.concatenate(([k[0] for k in x], [k[0] for k in x_test]))\n",
    "graph1_y = np.concatenate(([k[0] for k in y], [k[0] for k in exp_val1]))\n",
    "sns.lineplot(x = graph1_x, y = graph1_y)"
   ]
  },
  {
   "cell_type": "code",
   "execution_count": 6,
   "metadata": {},
   "outputs": [
    {
     "name": "stdout",
     "output_type": "stream",
     "text": [
      "Step: 0 Cost: 378.2164611816406\n",
      "Step: 10 Cost: inf\n",
      "Step: 20 Cost: nan\n",
      "Step: 30 Cost: nan\n",
      "Step: 40 Cost: nan\n",
      "Step: 50 Cost: nan\n",
      "Step: 60 Cost: nan\n",
      "Step: 70 Cost: nan\n",
      "Step: 80 Cost: nan\n",
      "Step: 90 Cost: nan\n",
      "Step: 100 Cost: nan\n",
      "================================================================================\n",
      "Report\n",
      "================================================================================\n",
      "Linear Regression Formula: Y = [[nan]]x + [nan]\n",
      "================================================================================\n",
      "================================================================================\n",
      "[[nan]\n",
      " [nan]\n",
      " [nan]\n",
      " [nan]]\n"
     ]
    }
   ],
   "source": [
    "lr = 15\n",
    "\n",
    "optimizer = tf.train.GradientDescentOptimizer(lr)\n",
    "train = optimizer.minimize(cost)\n",
    "\n",
    "with tf.Session() as sess:\n",
    "    sess.run(tf.global_variables_initializer())\n",
    "    \n",
    "    for step in range(101):\n",
    "        _, cost_val = sess.run([train, cost], feed_dict = {X:x, Y:y})\n",
    "        \n",
    "        if step % 10 == 0:\n",
    "            print(f'Step: {step} Cost: {cost_val}')\n",
    "    \n",
    "    w_val, b_val = sess.run([W, b])\n",
    "    \n",
    "    print('='*80)\n",
    "    print('Report')\n",
    "    print('='*80)\n",
    "    print(f'Linear Regression Formula: Y = {w_val}x + {b_val}')\n",
    "    print('='*80)\n",
    "    print('='*80)\n",
    "    exp_val2 = sess.run(hypothesis, feed_dict = {X:x_test})\n",
    "    print(exp_val2)\n"
   ]
  },
  {
   "cell_type": "code",
   "execution_count": 7,
   "metadata": {},
   "outputs": [
    {
     "data": {
      "text/plain": [
       "<matplotlib.axes._subplots.AxesSubplot at 0x7fb24c676048>"
      ]
     },
     "execution_count": 7,
     "metadata": {},
     "output_type": "execute_result"
    },
    {
     "data": {
      "image/png": "[encoded data removed]",
      "text/plain": [
       "<Figure size 432x288 with 1 Axes>"
      ]
     },
     "metadata": {
      "needs_background": "light"
     },
     "output_type": "display_data"
    }
   ],
   "source": [
    "graph2_y = np.concatenate(([k[0] for k in y], [k[0] for k in exp_val2]))\n",
    "sns.lineplot(x = graph1_x, y = graph2_y)"
   ]
  },
  {
   "cell_type": "code",
   "execution_count": 8,
   "metadata": {},
   "outputs": [
    {
     "name": "stdout",
     "output_type": "stream",
     "text": [
      "Step: 0 Cost: 314.02099609375\n",
      "Step: 10 Cost: 314.02099609375\n",
      "Step: 20 Cost: 314.02099609375\n",
      "Step: 30 Cost: 314.02099609375\n",
      "Step: 40 Cost: 314.02099609375\n",
      "Step: 50 Cost: 314.02099609375\n",
      "Step: 60 Cost: 314.02099609375\n",
      "Step: 70 Cost: 314.02099609375\n",
      "Step: 80 Cost: 314.02099609375\n",
      "Step: 90 Cost: 314.02099609375\n",
      "Step: 100 Cost: 314.02099609375\n",
      "================================================================================\n",
      "Report\n",
      "================================================================================\n",
      "Linear Regression Formula: Y = [[0.37176648]]x + [0.33866665]\n",
      "================================================================================\n",
      "================================================================================\n",
      "[[ 4.056331]\n",
      " [ 7.773996]\n",
      " [11.491661]\n",
      " [15.209326]]\n"
     ]
    }
   ],
   "source": [
    "lr = 0.00000000001\n",
    "\n",
    "optimizer = tf.train.GradientDescentOptimizer(lr)\n",
    "train = optimizer.minimize(cost)\n",
    "\n",
    "with tf.Session() as sess:\n",
    "    sess.run(tf.global_variables_initializer())\n",
    "    \n",
    "    for step in range(101):\n",
    "        _, cost_val = sess.run([train, cost], feed_dict = {X:x, Y:y})\n",
    "        \n",
    "        if step % 10 == 0:\n",
    "            print(f'Step: {step} Cost: {cost_val}')\n",
    "    \n",
    "    w_val, b_val = sess.run([W, b])\n",
    "    \n",
    "    print('='*80)\n",
    "    print('Report')\n",
    "    print('='*80)\n",
    "    print(f'Linear Regression Formula: Y = {w_val}x + {b_val}')\n",
    "    print('='*80)\n",
    "    print('='*80)\n",
    "    exp_val3 = sess.run(hypothesis, feed_dict = {X:x_test})\n",
    "    print(exp_val3)\n"
   ]
  },
  {
   "cell_type": "code",
   "execution_count": 9,
   "metadata": {},
   "outputs": [
    {
     "data": {
      "text/plain": [
       "<matplotlib.axes._subplots.AxesSubplot at 0x7fb24c5b39e8>"
      ]
     },
     "execution_count": 9,
     "metadata": {},
     "output_type": "execute_result"
    },
    {
     "data": {
      "image/png": "[encoded data removed]",
      "text/plain": [
       "<Figure size 432x288 with 1 Axes>"
      ]
     },
     "metadata": {
      "needs_background": "light"
     },
     "output_type": "display_data"
    }
   ],
   "source": [
    "graph3_y = np.concatenate(([k[0] for k in y], [k[0] for k in exp_val3]))\n",
    "sns.lineplot(x = graph1_x, y = graph3_y)"
   ]
  },
  {
   "cell_type": "code",
   "execution_count": null,
   "metadata": {},
   "outputs": [],
   "source": []
  }
 ],
 "metadata": {
  "kernelspec": {
   "display_name": "Python 3",
   "language": "python",
   "name": "python3"
  },
  "language_info": {
   "codemirror_mode": {
    "name": "ipython",
    "version": 3
   },
   "file_extension": ".py",
   "mimetype": "text/x-python",
   "name": "python",
   "nbconvert_exporter": "python",
   "pygments_lexer": "ipython3",
   "version": "3.7.3"
  }
 },
 "nbformat": 4,
 "nbformat_minor": 2
}
